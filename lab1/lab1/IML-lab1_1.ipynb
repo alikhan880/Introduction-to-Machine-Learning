{
 "cells": [
  {
   "cell_type": "markdown",
   "metadata": {},
   "source": [
    "# Intro to Mathematical logic, Jupyter Notebook\n",
    "\n",
    "## Installation\n",
    "* pip install pyDatalog\n",
    "\n",
    "## Tasks\n",
    "* Extend rules for the salary at your own company. Namely add progressive tax rate depending on salary tax_rate=f(salary)\n",
    "* Add working time and calculate the total salary for every employee\n",
    "* Make filter form for employees"
   ]
  },
  {
   "cell_type": "code",
   "execution_count": 1,
   "metadata": {},
   "outputs": [
    {
     "ename": "SyntaxError",
     "evalue": "invalid syntax (<ipython-input-1-e2f5d7d47212>, line 46)",
     "output_type": "error",
     "traceback": [
      "\u001b[1;36m  File \u001b[1;32m\"<ipython-input-1-e2f5d7d47212>\"\u001b[1;36m, line \u001b[1;32m46\u001b[0m\n\u001b[1;33m    if(salary < 10000) rate = 0.1\u001b[0m\n\u001b[1;37m                          ^\u001b[0m\n\u001b[1;31mSyntaxError\u001b[0m\u001b[1;31m:\u001b[0m invalid syntax\n"
     ]
    }
   ],
   "source": [
    "from pyDatalog import pyDatalog\n",
    "def twice(a):\n",
    "    return a+a\n",
    "pyDatalog.create_terms('X,Y,Z,Arr')\n",
    "\n",
    "print('Set the X var to 1')\n",
    "print(X==1)\n",
    "print()\n",
    "print('Assignment of 2 Vars')\n",
    "print((X==True) & (Y==False))\n",
    "print()\n",
    "\n",
    "print('Assignment n times, to n values')\n",
    "print(Arr.in_((0,1,2,3,4)))\n",
    "print()\n",
    "\n",
    "print('Just another case N assignment')\n",
    "print(Arr.in_(range(5)))\n",
    "print()\n",
    "\n",
    "print('Filtering')\n",
    "print(X.in_(range(5)) & (X<2))\n",
    "print()\n",
    "\n",
    "print('Term of function')\n",
    "pyDatalog.create_terms('twice')\n",
    "print((X==2) & (Y==twice(X)))\n",
    "print()\n",
    "print('Combination Assignment and Filtering')\n",
    "print(X.in_(range(5)) & \n",
    "     Y.in_(range(5)) & \n",
    "     (Z==X*Y))\n",
    "print(len(Z))\n",
    "\n",
    "\n",
    "\n",
    "\n",
    "\n",
    "from ipywidgets import interact_manual\n",
    "from pyDatalog import pyDatalog\n",
    "pyDatalog.create_terms('employee, net_salary, tax_rate, month, total_salary, min_salary')\n",
    "@interact_manual\n",
    "def get_input(name='Alikhan', salary=50000, month = 24):\n",
    "    min_salary = 20000\n",
    "    employee[name]=salary\n",
    "    if(salary < 10000) rate = 0.1\n",
    "    else if(salary > 10000) rate = 0.3\n",
    "    tax_rate =  employee[X] * rate + min_salary * rate\n",
    "    net_salary[X] =  employee[X] - tax_rate \n",
    "    total_salary[X] = month * (employee[X] - tax_rate) \n",
    "    print((net_salary[X]==Y) & (total_salary[X]==Z) & (Y > 15000) & (Z > 240000))\n",
    "\n"
   ]
  },
  {
   "cell_type": "code",
   "execution_count": null,
   "metadata": {
    "collapsed": true
   },
   "outputs": [],
   "source": []
  },
  {
   "cell_type": "code",
   "execution_count": null,
   "metadata": {
    "collapsed": true
   },
   "outputs": [],
   "source": []
  },
  {
   "cell_type": "code",
   "execution_count": null,
   "metadata": {
    "collapsed": true
   },
   "outputs": [],
   "source": []
  },
  {
   "cell_type": "code",
   "execution_count": null,
   "metadata": {
    "collapsed": true
   },
   "outputs": [],
   "source": []
  }
 ],
 "metadata": {
  "anaconda-cloud": {},
  "kernelspec": {
   "display_name": "Python 3",
   "language": "python",
   "name": "python3"
  },
  "language_info": {
   "codemirror_mode": {
    "name": "ipython",
    "version": 3
   },
   "file_extension": ".py",
   "mimetype": "text/x-python",
   "name": "python",
   "nbconvert_exporter": "python",
   "pygments_lexer": "ipython3",
   "version": "3.6.3"
  },
  "widgets": {
   "state": {
    "c40306d88fc044479dde57e5d2ab9aa5": {
     "views": [
      {
       "cell_index": 4
      }
     ]
    }
   },
   "version": "1.2.0"
  }
 },
 "nbformat": 4,
 "nbformat_minor": 2
}
